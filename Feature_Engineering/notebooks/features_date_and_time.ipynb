{
 "cells": [
  {
   "cell_type": "code",
   "execution_count": 5,
   "metadata": {},
   "outputs": [
    {
     "name": "stderr",
     "output_type": "stream",
     "text": [
      "C:\\Users\\Kiro\\AppData\\Local\\Temp\\ipykernel_42284\\2719812489.py:2: FutureWarning: 'H' is deprecated and will be removed in a future version, please use 'h' instead.\n",
      "  s = pd.date_range('2020-01-06', '2020-01-10', freq='10H').to_series()\n"
     ]
    },
    {
     "data": {
      "text/plain": [
       "{'dayofweek': array([0, 0, 0, 1, 1, 2, 2, 2, 3, 3]),\n",
       " 'dayofyear': array([6, 6, 6, 7, 7, 8, 8, 8, 9, 9]),\n",
       " 'hour': array([ 0, 10, 20,  6, 16,  2, 12, 22,  8, 18]),\n",
       " 'is_leap_year': array([ True,  True,  True,  True,  True,  True,  True,  True,  True,\n",
       "         True]),\n",
       " 'quarter': array([1, 1, 1, 1, 1, 1, 1, 1, 1, 1])}"
      ]
     },
     "execution_count": 5,
     "metadata": {},
     "output_type": "execute_result"
    }
   ],
   "source": [
    "import pandas as pd \n",
    "s = pd.date_range('2020-01-06', '2020-01-10', freq='10H').to_series() \n",
    "\n",
    "features = { \n",
    "    \"dayofweek\": s.dt.dayofweek.values, \n",
    "    \"dayofyear\": s.dt.dayofyear.values, \n",
    "    \"hour\": s.dt.hour.values, \n",
    "    \"is_leap_year\": s.dt.is_leap_year.values, \n",
    "    \"quarter\": s.dt.quarter.values\n",
    "}\n",
    "\n",
    "features"
   ]
  }
 ],
 "metadata": {
  "kernelspec": {
   "display_name": "Python 3",
   "language": "python",
   "name": "python3"
  },
  "language_info": {
   "codemirror_mode": {
    "name": "ipython",
    "version": 3
   },
   "file_extension": ".py",
   "mimetype": "text/x-python",
   "name": "python",
   "nbconvert_exporter": "python",
   "pygments_lexer": "ipython3",
   "version": "3.12.5"
  }
 },
 "nbformat": 4,
 "nbformat_minor": 2
}
