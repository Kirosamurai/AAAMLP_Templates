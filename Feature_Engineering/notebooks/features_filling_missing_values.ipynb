{
 "cells": [
  {
   "cell_type": "code",
   "execution_count": 7,
   "metadata": {},
   "outputs": [
    {
     "data": {
      "text/plain": [
       "array([[11.,  6., 11.,  2.,  8., 11.],\n",
       "       [ 6.,  6.,  6.,  8., nan, 10.],\n",
       "       [12., 12.,  1., nan,  6.,  7.],\n",
       "       [ 5.,  4.,  4., 11., nan,  5.],\n",
       "       [12.,  8.,  7.,  2.,  9.,  9.],\n",
       "       [ 8.,  4., 14.,  8., nan, 11.],\n",
       "       [ 4., 12., 12., nan, 14.,  8.],\n",
       "       [ 4.,  6., nan,  5.,  5.,  5.],\n",
       "       [ 7.,  3., 10., nan,  2., nan],\n",
       "       [12., 11., nan,  2., nan,  6.]])"
      ]
     },
     "execution_count": 7,
     "metadata": {},
     "output_type": "execute_result"
    }
   ],
   "source": [
    "import numpy as np\n",
    "from sklearn import impute\n",
    "\n",
    "X = np.random.randint(1, 15, (10,6))\n",
    "X = X.astype(float)\n",
    "\n",
    "X.ravel()[np.random.choice(X.size, 10, replace=False)] = np.nan\n",
    "\n",
    "knn_imputer = impute.KNNImputer(n_neighbors=2)\n",
    "x = knn_imputer.fit_transform(X)\n",
    "\n",
    "X"
   ]
  },
  {
   "cell_type": "code",
   "execution_count": 9,
   "metadata": {},
   "outputs": [
    {
     "data": {
      "text/plain": [
       "array([[11. ,  6. , 11. ,  2. ,  8. , 11. ],\n",
       "       [ 6. ,  6. ,  6. ,  8. ,  3.5, 10. ],\n",
       "       [12. , 12. ,  1. ,  2. ,  6. ,  7. ],\n",
       "       [ 5. ,  4. ,  4. , 11. ,  3.5,  5. ],\n",
       "       [12. ,  8. ,  7. ,  2. ,  9. ,  9. ],\n",
       "       [ 8. ,  4. , 14. ,  8. ,  5. , 11. ],\n",
       "       [ 4. , 12. , 12. ,  5. , 14. ,  8. ],\n",
       "       [ 4. ,  6. ,  8. ,  5. ,  5. ,  5. ],\n",
       "       [ 7. ,  3. , 10. ,  8. ,  2. , 10.5],\n",
       "       [12. , 11. ,  4. ,  2. ,  7.5,  6. ]])"
      ]
     },
     "execution_count": 9,
     "metadata": {},
     "output_type": "execute_result"
    }
   ],
   "source": [
    "x"
   ]
  },
  {
   "cell_type": "code",
   "execution_count": null,
   "metadata": {},
   "outputs": [],
   "source": []
  }
 ],
 "metadata": {
  "kernelspec": {
   "display_name": "Python 3",
   "language": "python",
   "name": "python3"
  },
  "language_info": {
   "codemirror_mode": {
    "name": "ipython",
    "version": 3
   },
   "file_extension": ".py",
   "mimetype": "text/x-python",
   "name": "python",
   "nbconvert_exporter": "python",
   "pygments_lexer": "ipython3",
   "version": "3.12.5"
  }
 },
 "nbformat": 4,
 "nbformat_minor": 2
}
