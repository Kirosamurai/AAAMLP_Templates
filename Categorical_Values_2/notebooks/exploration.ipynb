{
 "cells": [
  {
   "cell_type": "code",
   "execution_count": 9,
   "metadata": {},
   "outputs": [],
   "source": [
    "import pandas as pd\n",
    "\n",
    "df = pd.read_csv(\"../input/adult.csv\")"
   ]
  },
  {
   "cell_type": "code",
   "execution_count": 10,
   "metadata": {},
   "outputs": [
    {
     "data": {
      "text/plain": [
       "income\n",
       "<=50K    24720\n",
       ">50K      7841\n",
       "Name: count, dtype: int64"
      ]
     },
     "execution_count": 10,
     "metadata": {},
     "output_type": "execute_result"
    }
   ],
   "source": [
    "df.income.value_counts()"
   ]
  },
  {
   "cell_type": "code",
   "execution_count": 10,
   "metadata": {},
   "outputs": [
    {
     "name": "stdout",
     "output_type": "stream",
     "text": [
      "0\n",
      "workclass         0\n",
      "education         0\n",
      "education_num     0\n",
      "marital_status    0\n",
      "occupation        0\n",
      "relationship      0\n",
      "race              0\n",
      "sex               0\n",
      "native_country    0\n",
      "dtype: int64\n"
     ]
    },
    {
     "name": "stderr",
     "output_type": "stream",
     "text": [
      "C:\\Users\\Kiro\\AppData\\Local\\Temp\\ipykernel_31044\\3644681906.py:31: FutureWarning: Setting an item of incompatible dtype is deprecated and will raise in a future error of pandas. Value '['13' '15' '11' ... '7' '14' '14']' has dtype incompatible with int64, please explicitly cast to a compatible dtype first.\n",
      "  df.loc[:, col] = df[col].astype(str).fillna(\"NONE\")\n"
     ]
    }
   ],
   "source": [
    "import pandas as pd\n",
    "\n",
    "from sklearn import linear_model\n",
    "from sklearn import metrics\n",
    "from sklearn import preprocessing\n",
    "\n",
    "df = pd.read_csv(\"../input/adult_folds.csv\")\n",
    "\n",
    "num_cols = [ \n",
    "    \"fnlwgt\", \n",
    "    \"age\", \n",
    "    \"capital_gain\", \n",
    "    \"capital_loss\", \n",
    "    \"hours_per_week\" \n",
    "]\n",
    "\n",
    "df = df.drop(num_cols, axis=1)\n",
    "df[\"income\"] = df[\"income\"].str.strip()\n",
    "\n",
    "target_mapping = { \n",
    "    \"<=50K\": 0, \n",
    "    \">50K\": 1 \n",
    "} \n",
    "\n",
    "df[\"income\"] = df[\"income\"].map(target_mapping)\n",
    "print(df[\"income\"].isnull().sum())\n",
    "\n",
    "features = [f for f in df.columns if f not in (\"kfold\", \"income\")]\n",
    "\n",
    "for col in features:\n",
    "    df.loc[:, col] = df[col].astype(str).fillna(\"NONE\")\n",
    "\n",
    "df_train = df[df[\"kfold\"] != 0].reset_index(drop = True)\n",
    "df_valid = df[df[\"kfold\"] == 0].reset_index(drop = True)\n",
    "\n",
    "ohe = preprocessing.OneHotEncoder()\n",
    "\n",
    "full_data = pd.concat([df_train[features], df_valid[features]], axis=0)\n",
    "print(full_data.isnull().sum())\n",
    "ohe.fit(full_data[features])\n",
    "\n",
    "x_train = ohe.transform(df_train[features])\n",
    "x_valid = ohe.transform(df_valid[features])\n",
    "\n",
    "model = linear_model.LogisticRegression()"
   ]
  },
  {
   "cell_type": "code",
   "execution_count": null,
   "metadata": {},
   "outputs": [],
   "source": []
  }
 ],
 "metadata": {
  "kernelspec": {
   "display_name": "Python 3",
   "language": "python",
   "name": "python3"
  },
  "language_info": {
   "codemirror_mode": {
    "name": "ipython",
    "version": 3
   },
   "file_extension": ".py",
   "mimetype": "text/x-python",
   "name": "python",
   "nbconvert_exporter": "python",
   "pygments_lexer": "ipython3",
   "version": "3.12.5"
  }
 },
 "nbformat": 4,
 "nbformat_minor": 2
}
