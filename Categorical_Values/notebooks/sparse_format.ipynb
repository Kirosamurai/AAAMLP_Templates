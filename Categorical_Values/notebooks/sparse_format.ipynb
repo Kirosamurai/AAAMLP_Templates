{
 "cells": [
  {
   "cell_type": "code",
   "execution_count": 1,
   "metadata": {},
   "outputs": [
    {
     "name": "stdout",
     "output_type": "stream",
     "text": [
      "36\n"
     ]
    }
   ],
   "source": [
    "import numpy as np \n",
    " \n",
    "# create our example feature matrix \n",
    "example = np.array( \n",
    "    [ \n",
    "        [0, 0, 1], \n",
    "        [1, 0, 0], \n",
    "        [1, 0, 1] \n",
    "    ] \n",
    ") \n",
    " \n",
    "# print size in bytes \n",
    "print(example.nbytes)"
   ]
  },
  {
   "cell_type": "code",
   "execution_count": 2,
   "metadata": {},
   "outputs": [
    {
     "name": "stdout",
     "output_type": "stream",
     "text": [
      "16\n"
     ]
    }
   ],
   "source": [
    "import numpy as np \n",
    "from scipy import sparse \n",
    " \n",
    "# create our example feature matrix \n",
    "example = np.array( \n",
    "    [ \n",
    "        [0, 0, 1], \n",
    "        [1, 0, 0], \n",
    "        [1, 0, 1] \n",
    "    ] \n",
    ") \n",
    " \n",
    "# convert numpy array to sparse CSR matrix \n",
    "sparse_example = sparse.csr_matrix(example) \n",
    " \n",
    "# print size of this sparse matrix \n",
    "print(sparse_example.data.nbytes)"
   ]
  },
  {
   "cell_type": "code",
   "execution_count": 3,
   "metadata": {},
   "outputs": [
    {
     "name": "stdout",
     "output_type": "stream",
     "text": [
      "48\n"
     ]
    }
   ],
   "source": [
    "print( \n",
    "    sparse_example.data.nbytes +  \n",
    "    sparse_example.indptr.nbytes +  \n",
    "    sparse_example.indices.nbytes \n",
    ") "
   ]
  },
  {
   "cell_type": "code",
   "execution_count": null,
   "metadata": {},
   "outputs": [],
   "source": []
  }
 ],
 "metadata": {
  "kernelspec": {
   "display_name": "Python 3",
   "language": "python",
   "name": "python3"
  },
  "language_info": {
   "codemirror_mode": {
    "name": "ipython",
    "version": 3
   },
   "file_extension": ".py",
   "mimetype": "text/x-python",
   "name": "python",
   "nbconvert_exporter": "python",
   "pygments_lexer": "ipython3",
   "version": "3.12.5"
  }
 },
 "nbformat": 4,
 "nbformat_minor": 2
}
